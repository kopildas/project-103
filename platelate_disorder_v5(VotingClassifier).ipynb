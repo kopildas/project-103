{
  "nbformat": 4,
  "nbformat_minor": 0,
  "metadata": {
    "colab": {
      "provenance": [],
      "mount_file_id": "18ahyUJWiFkhhOLe8Yid4ncU1Ib2qph3Q",
      "authorship_tag": "ABX9TyMSwcgRJvKyMFCPbPohKzVN",
      "include_colab_link": true
    },
    "kernelspec": {
      "name": "python3",
      "display_name": "Python 3"
    },
    "language_info": {
      "name": "python"
    }
  },
  "cells": [
    {
      "cell_type": "markdown",
      "metadata": {
        "id": "view-in-github",
        "colab_type": "text"
      },
      "source": [
        "<a href=\"https://colab.research.google.com/github/kopildas/project-103/blob/main/platelate_disorder_v5(VotingClassifier).ipynb\" target=\"_parent\"><img src=\"https://colab.research.google.com/assets/colab-badge.svg\" alt=\"Open In Colab\"/></a>"
      ]
    },
    {
      "cell_type": "code",
      "source": [
        "import pandas as pd\n",
        "import numpy as np\n",
        "\n",
        "from sklearn.model_selection import GroupShuffleSplit, train_test_split, StratifiedKFold\n",
        "from sklearn.impute import SimpleImputer\n",
        "from sklearn.preprocessing import StandardScaler, label_binarize\n",
        "from sklearn.ensemble import VotingClassifier, RandomForestClassifier, GradientBoostingClassifier\n",
        "from sklearn.svm import SVC\n",
        "from xgboost import XGBClassifier\n",
        "from sklearn.feature_selection import RFE\n",
        "from sklearn.metrics import (roc_curve, auc, roc_auc_score, confusion_matrix,\n",
        "                             classification_report)\n",
        "import matplotlib.pyplot as plt\n",
        "import seaborn as sns"
      ],
      "metadata": {
        "id": "uYmREoixiQTR"
      },
      "execution_count": 7,
      "outputs": []
    },
    {
      "cell_type": "markdown",
      "source": [
        "# 1. Data Loading and Pivoting"
      ],
      "metadata": {
        "id": "r7BDGVTOikQE"
      }
    },
    {
      "cell_type": "code",
      "source": [
        "\n",
        "data = pd.read_excel(\"/content/drive/MyDrive/project_103/cbc_data.xlsx\",\n",
        "                     sheet_name=\"cbc data\", skiprows=1)\n",
        "print(\"Initial Data Shape:\", data.shape)\n",
        "\n",
        "pivot_data = data.pivot_table(\n",
        "    index=['prescription_ncid', 'patient_name', 'dob'],\n",
        "    columns='attribute_name',\n",
        "    values='result',\n",
        "    aggfunc='first'\n",
        ").reset_index()\n",
        "\n",
        "# Define ID and attribute columns separately\n",
        "id_cols = ['prescription_ncid', 'patient_name', 'dob']\n",
        "attr_cols = [col for col in pivot_data.columns if col not in id_cols]\n",
        "\n",
        "# Convert only the CBC attribute columns to numeric\n",
        "pivot_data[attr_cols] = pivot_data[attr_cols].apply(pd.to_numeric, errors='coerce')\n",
        "\n",
        "# Drop rows where patient_name is missing (so group-split won't fail)\n",
        "pivot_data.dropna(subset=['patient_name'], inplace=True)\n",
        "\n",
        "print(\"\\nPivoted Data Shape:\", pivot_data.shape)"
      ],
      "metadata": {
        "colab": {
          "base_uri": "https://localhost:8080/"
        },
        "id": "DAnLIuqOijRX",
        "outputId": "9969de5e-1c5e-4c14-f016-6841968aefba"
      },
      "execution_count": 8,
      "outputs": [
        {
          "output_type": "stream",
          "name": "stdout",
          "text": [
            "Initial Data Shape: (11009, 7)\n",
            "\n",
            "Pivoted Data Shape: (647, 21)\n"
          ]
        }
      ]
    },
    {
      "cell_type": "markdown",
      "source": [
        "# 2. Feature Engineering"
      ],
      "metadata": {
        "id": "5aLNRGCji3bN"
      }
    },
    {
      "cell_type": "code",
      "source": [
        "\n",
        "# Drop rows missing Platelet or MPV (required for ratio calculation)\n",
        "pivot_data.dropna(subset=['Platelet', 'MPV'], inplace=True)\n",
        "\n",
        "# Create ratio feature: Platelet_to_MPV\n",
        "pivot_data['Platelet_to_MPV'] = pivot_data['Platelet'] / pivot_data['MPV']\n",
        "\n",
        "# Define target based on Platelet thresholds\n",
        "pivot_data['Platelet_Disorder'] = np.where(\n",
        "    pivot_data['Platelet'] < 150, 'Thrombocytopenia',\n",
        "    np.where(pivot_data['Platelet'] > 450, 'Thrombocythaemia', 'Normal')\n",
        ")\n",
        "\n",
        "# Numeric encode the target\n",
        "label_map = {'Thrombocytopenia': 0, 'Thrombocythaemia': 1, 'Normal': 2}\n",
        "pivot_data['Platelet_Disorder'] = pivot_data['Platelet_Disorder'].map(label_map)\n",
        "\n",
        "print(\"\\nClass Distribution:\")\n",
        "print(pivot_data['Platelet_Disorder'].value_counts())"
      ],
      "metadata": {
        "colab": {
          "base_uri": "https://localhost:8080/"
        },
        "id": "NtjSZruFi1CL",
        "outputId": "b2d94998-0491-4306-9b2b-dee91658294d"
      },
      "execution_count": 9,
      "outputs": [
        {
          "output_type": "stream",
          "name": "stdout",
          "text": [
            "\n",
            "Class Distribution:\n",
            "Platelet_Disorder\n",
            "2    539\n",
            "1     48\n",
            "0     32\n",
            "Name: count, dtype: int64\n"
          ]
        }
      ]
    },
    {
      "cell_type": "markdown",
      "source": [
        "# 3. Remove Direct Leakage (Exclude 'Platelet')"
      ],
      "metadata": {
        "id": "2gAFdECvjPr-"
      }
    },
    {
      "cell_type": "code",
      "source": [
        "# Exclude ID columns, target, and Platelet (for preventing direct leakage)\n",
        "exclude_cols = ['prescription_ncid', 'patient_name', 'dob', 'Platelet_Disorder', 'Platelet']\n",
        "feature_columns = [col for col in pivot_data.columns if col not in exclude_cols]\n",
        "print(\"\\nFeature Columns Used:\", feature_columns)"
      ],
      "metadata": {
        "colab": {
          "base_uri": "https://localhost:8080/"
        },
        "id": "jymko6j9jMyF",
        "outputId": "edd1f039-d85d-4be7-9eb6-47f70497b548"
      },
      "execution_count": 10,
      "outputs": [
        {
          "output_type": "stream",
          "name": "stdout",
          "text": [
            "\n",
            "Feature Columns Used: ['Basophils (%)', 'Eosinophils (%)', 'Hemoglobin', 'IG%', 'Lymphocytes (%)', 'MCH', 'MCHC', 'MCV', 'MPV', 'Monocytes (%)', 'Neutrophils (%)', 'PCV/HCT', 'PDW', 'RBC', 'RDW-CV', 'RDW-SD', 'WBC', 'Platelet_to_MPV']\n"
          ]
        }
      ]
    },
    {
      "cell_type": "markdown",
      "source": [
        "# 4. Group-based Train/Test Split\n",
        "  ###### to ensure that the same patient does not appear in both training and testing sets."
      ],
      "metadata": {
        "id": "gs6b7OACjgUn"
      }
    },
    {
      "cell_type": "code",
      "source": [
        "# Use patient_name to ensure same patient isn't in both sets\n",
        "groups = pivot_data['patient_name']\n",
        "X_all = pivot_data[feature_columns].values\n",
        "y_all = pivot_data['Platelet_Disorder'].values\n",
        "\n",
        "gss = GroupShuffleSplit(n_splits=1, test_size=0.3, random_state=42)\n",
        "train_idx, test_idx = next(gss.split(X_all, y_all, groups))\n",
        "\n",
        "X_train_raw, X_test_raw = X_all[train_idx], X_all[test_idx]\n",
        "y_train, y_test = y_all[train_idx], y_all[test_idx]"
      ],
      "metadata": {
        "id": "78-F8ickjZT8"
      },
      "execution_count": 12,
      "outputs": []
    },
    {
      "cell_type": "markdown",
      "source": [
        "# 5. Impute Missing Values & Scale Features"
      ],
      "metadata": {
        "id": "IEMHOV8Mjsj7"
      }
    },
    {
      "cell_type": "code",
      "source": [
        "imputer = SimpleImputer(strategy='mean')\n",
        "X_train_imp = imputer.fit_transform(X_train_raw)\n",
        "X_test_imp = imputer.transform(X_test_raw)\n",
        "\n",
        "scaler = StandardScaler()\n",
        "X_train = scaler.fit_transform(X_train_imp)\n",
        "X_test = scaler.transform(X_test_imp)"
      ],
      "metadata": {
        "id": "AG-hxLTHjpbi"
      },
      "execution_count": 13,
      "outputs": []
    },
    {
      "cell_type": "markdown",
      "source": [
        "# 6. Feature Selection with RFE\n",
        "###### (RFE) is applied to select the 10 best features."
      ],
      "metadata": {
        "id": "fn28099Sj2_H"
      }
    },
    {
      "cell_type": "code",
      "source": [
        "rf_for_rfe = RandomForestClassifier(n_estimators=100, random_state=42)\n",
        "rfe = RFE(rf_for_rfe, n_features_to_select=10)\n",
        "rfe.fit(X_train, y_train)\n",
        "\n",
        "selected_mask = rfe.support_\n",
        "selected_features = np.array(feature_columns)[selected_mask]\n",
        "print(\"\\nSelected Features (RFE):\", selected_features)"
      ],
      "metadata": {
        "colab": {
          "base_uri": "https://localhost:8080/"
        },
        "id": "a9F-bDjKjzoV",
        "outputId": "ce834fb6-7ec1-45aa-b7f4-22a891c700e5"
      },
      "execution_count": 14,
      "outputs": [
        {
          "output_type": "stream",
          "name": "stdout",
          "text": [
            "\n",
            "Selected Features (RFE): ['MCH' 'MCHC' 'MCV' 'MPV' 'Neutrophils (%)' 'PDW' 'RDW-CV' 'RDW-SD' 'WBC'\n",
            " 'Platelet_to_MPV']\n"
          ]
        }
      ]
    },
    {
      "cell_type": "markdown",
      "source": [
        "# 7. Ensemble Model (VotingClassifier)\n",
        "###### An ensemble of SVC, XGB, Gradient Boosting, and Random Forest is built using soft voting"
      ],
      "metadata": {
        "id": "Ry95gTevkG3C"
      }
    },
    {
      "cell_type": "code",
      "source": [
        "svc = SVC(kernel='linear', probability=True, random_state=42)\n",
        "xgb = XGBClassifier(random_state=42, use_label_encoder=False, eval_metric='logloss')\n",
        "gb = GradientBoostingClassifier(random_state=42)\n",
        "rf_ens = RandomForestClassifier(n_estimators=100, random_state=42)\n",
        "\n",
        "voting_clf = VotingClassifier(\n",
        "    estimators=[('svc', svc), ('xgb', xgb), ('gb', gb), ('rf', rf_ens)],\n",
        "    voting='soft'\n",
        ")"
      ],
      "metadata": {
        "id": "eeMhbAkhkDsL"
      },
      "execution_count": 15,
      "outputs": []
    },
    {
      "cell_type": "code",
      "source": [
        "# Train using only selected features from RFE\n",
        "voting_clf.fit(X_train[:, selected_mask], y_train)\n",
        "y_ens_prob = voting_clf.predict_proba(X_test[:, selected_mask])"
      ],
      "metadata": {
        "colab": {
          "base_uri": "https://localhost:8080/"
        },
        "id": "-LonxXDvkRL5",
        "outputId": "d4073670-27f9-46ca-e6fa-e5144426dbd9"
      },
      "execution_count": 16,
      "outputs": [
        {
          "output_type": "stream",
          "name": "stderr",
          "text": [
            "/usr/local/lib/python3.11/dist-packages/xgboost/core.py:158: UserWarning: [06:50:03] WARNING: /workspace/src/learner.cc:740: \n",
            "Parameters: { \"use_label_encoder\" } are not used.\n",
            "\n",
            "  warnings.warn(smsg, UserWarning)\n"
          ]
        }
      ]
    },
    {
      "cell_type": "markdown",
      "source": [
        "# 8. Evaluation: ROC AUC, Confusion Matrix, Classification Report"
      ],
      "metadata": {
        "id": "VdwiADVFkwb5"
      }
    },
    {
      "cell_type": "code",
      "source": [
        "# Binarize true labels for ROC computation\n",
        "y_test_bin = label_binarize(y_test, classes=[0, 1, 2])\n",
        "ens_roc_auc_macro = roc_auc_score(y_test_bin, y_ens_prob, average='macro', multi_class='ovr')\n",
        "print(\"\\nEnsemble Model ROC AUC (Macro-average):\", ens_roc_auc_macro)"
      ],
      "metadata": {
        "colab": {
          "base_uri": "https://localhost:8080/"
        },
        "id": "CATNA_Vdkq7r",
        "outputId": "6586fa5c-c01a-4fa5-a272-170699ad10b3"
      },
      "execution_count": 17,
      "outputs": [
        {
          "output_type": "stream",
          "name": "stdout",
          "text": [
            "\n",
            "Ensemble Model ROC AUC (Macro-average): 0.9994887525562373\n"
          ]
        }
      ]
    },
    {
      "cell_type": "code",
      "source": [
        "y_ens_pred = voting_clf.predict(X_test[:, selected_mask])\n",
        "cm = confusion_matrix(y_test, y_ens_pred)\n",
        "\n",
        "plt.figure(figsize=(6, 5))\n",
        "sns.heatmap(cm, annot=True, fmt='d',\n",
        "            xticklabels=['Thrombocytopenia', 'Thrombocythaemia', 'Normal'],\n",
        "            yticklabels=['Thrombocytopenia', 'Thrombocythaemia', 'Normal'],\n",
        "            cmap='Blues')\n",
        "plt.title(\"Confusion Matrix (Ensemble)\")\n",
        "plt.xlabel(\"Predicted\")\n",
        "plt.ylabel(\"True\")\n",
        "plt.show()"
      ],
      "metadata": {
        "colab": {
          "base_uri": "https://localhost:8080/",
          "height": 608
        },
        "id": "JFUBzeqBk5yI",
        "outputId": "7addb8a5-27f1-474f-d2b8-c5e63e758693"
      },
      "execution_count": 18,
      "outputs": [
        {
          "output_type": "display_data",
          "data": {
            "text/plain": [
              "<Figure size 600x500 with 2 Axes>"
            ],
            "image/png": "[encoded data removed]"
          },
          "metadata": {}
        }
      ]
    },
    {
      "cell_type": "code",
      "source": [
        "print(\"\\nClassification Report:\")\n",
        "print(classification_report(y_test, y_ens_pred,\n",
        "                            target_names=['Thrombocytopenia', 'Thrombocythaemia', 'Normal']))"
      ],
      "metadata": {
        "colab": {
          "base_uri": "https://localhost:8080/"
        },
        "id": "7sSboA24lCvi",
        "outputId": "575d49ee-6a54-4a23-a3a8-3dd4a74fdd47"
      },
      "execution_count": 19,
      "outputs": [
        {
          "output_type": "stream",
          "name": "stdout",
          "text": [
            "\n",
            "Classification Report:\n",
            "                  precision    recall  f1-score   support\n",
            "\n",
            "Thrombocytopenia       0.70      1.00      0.82         7\n",
            "Thrombocythaemia       1.00      0.92      0.96        13\n",
            "          Normal       0.99      0.98      0.99       163\n",
            "\n",
            "        accuracy                           0.98       183\n",
            "       macro avg       0.90      0.97      0.92       183\n",
            "    weighted avg       0.98      0.98      0.98       183\n",
            "\n"
          ]
        }
      ]
    },
    {
      "cell_type": "markdown",
      "source": [
        "# 9. Ploting ROC Curves"
      ],
      "metadata": {
        "id": "rUmfkKCeovwD"
      }
    },
    {
      "cell_type": "code",
      "source": [
        "plt.figure(figsize=(8, 6))\n",
        "colors = ['blue', 'orange', 'green']\n",
        "class_labels = ['Thrombocytopenia', 'Thrombocythaemia', 'Normal']\n",
        "\n",
        "# Plot ROC for each class\n",
        "for i in range(y_test_bin.shape[1]):\n",
        "    fpr, tpr, _ = roc_curve(y_test_bin[:, i], y_ens_prob[:, i])\n",
        "    roc_auc_val = auc(fpr, tpr)\n",
        "    plt.plot(fpr, tpr, color=colors[i], lw=2,\n",
        "             label=f\"{class_labels[i]} (AUC = {roc_auc_val:.2f})\")\n",
        "\n",
        "# Micro-average ROC\n",
        "fpr_micro, tpr_micro, _ = roc_curve(y_test_bin.ravel(), y_ens_prob.ravel())\n",
        "roc_auc_micro = auc(fpr_micro, tpr_micro)\n",
        "plt.plot(fpr_micro, tpr_micro, color='red', lw=2,\n",
        "         label=f\"Micro-average (AUC = {roc_auc_micro:.2f})\")\n",
        "\n",
        "plt.plot([0, 1], [0, 1], color='gray', linestyle='--')\n",
        "plt.xlim([0.0, 1.0])\n",
        "plt.ylim([0.0, 1.05])\n",
        "plt.xlabel('False Positive Rate')\n",
        "plt.ylabel('True Positive Rate')\n",
        "plt.title('Multiclass ROC Curve - Ensemble Model')\n",
        "plt.legend(loc='lower right')\n",
        "plt.show()"
      ],
      "metadata": {
        "colab": {
          "base_uri": "https://localhost:8080/",
          "height": 564
        },
        "id": "QL2seUR_osZn",
        "outputId": "705a39d1-f574-49b2-fa61-7e289e61b2d2"
      },
      "execution_count": 20,
      "outputs": [
        {
          "output_type": "display_data",
          "data": {
            "text/plain": [
              "<Figure size 800x600 with 1 Axes>"
            ],
            "image/png": "[encoded data removed]"
          },
          "metadata": {}
        }
      ]
    },
    {
      "cell_type": "markdown",
      "source": [
        "# 10. Cross-Validation with StratifiedKFold"
      ],
      "metadata": {
        "id": "G10dJbaupDzu"
      }
    },
    {
      "cell_type": "code",
      "source": [
        "# Re-impute and scale the entire dataset for cross-validation\n",
        "X_all_imp = imputer.fit_transform(X_all)\n",
        "X_all_scaled = scaler.fit_transform(X_all_imp)\n",
        "\n",
        "# Select the same features as determined by RFE\n",
        "X_sel = X_all_scaled[:, selected_mask]\n",
        "y_sel = y_all\n",
        "\n",
        "skf = StratifiedKFold(n_splits=5, shuffle=True, random_state=42)\n",
        "ensemble_scores = []\n",
        "\n",
        "for train_idx_cv, test_idx_cv in skf.split(X_sel, y_sel):\n",
        "    voting_clf_cv = VotingClassifier(\n",
        "        estimators=[\n",
        "            ('svc', SVC(kernel='linear', probability=True, random_state=42)),\n",
        "            ('xgb', XGBClassifier(random_state=42, use_label_encoder=False, eval_metric='logloss')),\n",
        "            ('gb', GradientBoostingClassifier(random_state=42)),\n",
        "            ('rf', RandomForestClassifier(n_estimators=100, random_state=42))\n",
        "        ],\n",
        "        voting='soft'\n",
        "    )\n",
        "    voting_clf_cv.fit(X_sel[train_idx_cv], y_sel[train_idx_cv])\n",
        "    y_prob_cv = voting_clf_cv.predict_proba(X_sel[test_idx_cv])\n",
        "    y_bin_cv = label_binarize(y_sel[test_idx_cv], classes=[0, 1, 2])\n",
        "    score_cv = roc_auc_score(y_bin_cv, y_prob_cv, average='macro', multi_class='ovr')\n",
        "    ensemble_scores.append(score_cv)\n",
        "\n",
        "print(\"\\nCross-Validation Macro-AUC scores:\", ensemble_scores)\n",
        "print(\"Mean CV Macro-AUC:\", np.mean(ensemble_scores))"
      ],
      "metadata": {
        "colab": {
          "base_uri": "https://localhost:8080/"
        },
        "id": "0VkWdOsno5TR",
        "outputId": "37c54a5e-2d20-45a6-f9c0-48264eb728f9"
      },
      "execution_count": 21,
      "outputs": [
        {
          "output_type": "stream",
          "name": "stderr",
          "text": [
            "/usr/local/lib/python3.11/dist-packages/xgboost/core.py:158: UserWarning: [07:10:16] WARNING: /workspace/src/learner.cc:740: \n",
            "Parameters: { \"use_label_encoder\" } are not used.\n",
            "\n",
            "  warnings.warn(smsg, UserWarning)\n",
            "/usr/local/lib/python3.11/dist-packages/xgboost/core.py:158: UserWarning: [07:10:17] WARNING: /workspace/src/learner.cc:740: \n",
            "Parameters: { \"use_label_encoder\" } are not used.\n",
            "\n",
            "  warnings.warn(smsg, UserWarning)\n",
            "/usr/local/lib/python3.11/dist-packages/xgboost/core.py:158: UserWarning: [07:10:18] WARNING: /workspace/src/learner.cc:740: \n",
            "Parameters: { \"use_label_encoder\" } are not used.\n",
            "\n",
            "  warnings.warn(smsg, UserWarning)\n",
            "/usr/local/lib/python3.11/dist-packages/xgboost/core.py:158: UserWarning: [07:10:19] WARNING: /workspace/src/learner.cc:740: \n",
            "Parameters: { \"use_label_encoder\" } are not used.\n",
            "\n",
            "  warnings.warn(smsg, UserWarning)\n",
            "/usr/local/lib/python3.11/dist-packages/xgboost/core.py:158: UserWarning: [07:10:21] WARNING: /workspace/src/learner.cc:740: \n",
            "Parameters: { \"use_label_encoder\" } are not used.\n",
            "\n",
            "  warnings.warn(smsg, UserWarning)\n"
          ]
        },
        {
          "output_type": "stream",
          "name": "stdout",
          "text": [
            "\n",
            "Cross-Validation Macro-AUC scores: [0.9973161776852678, 1.0, 0.9967173242082662, 1.0, 0.9973924187840186]\n",
            "Mean CV Macro-AUC: 0.9982851841355107\n"
          ]
        }
      ]
    }
  ]
}